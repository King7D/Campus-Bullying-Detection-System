{
 "cells": [
  {
   "cell_type": "code",
   "execution_count": 7,
   "metadata": {},
   "outputs": [
    {
     "name": "stdout",
     "output_type": "stream",
     "text": [
      "                  对话 是否遭遇霸凌 预测结果\n",
      "521  你对即将到来的假期有什么计划？      否    否\n",
      "737   你总是取笑我，这真的很伤人。      是    是\n",
      "740  你对即将到来的假期有什么计划？      否    否\n",
      "660   我需要告诉老师你的所作所为。      是    是\n",
      "411  你的言语和行为让我感到被孤立。      是    是\n",
      "..               ...    ...  ...\n",
      "408         今天的天气真好。      否    否\n",
      "332  你对即将到来的假期有什么计划？      否    否\n",
      "208      为什么你总是挑我的错？      是    是\n",
      "613   你总是取笑我，这真的很伤人。      是    是\n",
      "78     你这样对待别人，真的好吗？      是    是\n",
      "\n",
      "[200 rows x 3 columns]\n",
      "Accuracy: 100.00%\n",
      "              precision    recall  f1-score   support\n",
      "\n",
      "           否       1.00      1.00      1.00        93\n",
      "           是       1.00      1.00      1.00       107\n",
      "\n",
      "    accuracy                           1.00       200\n",
      "   macro avg       1.00      1.00      1.00       200\n",
      "weighted avg       1.00      1.00      1.00       200\n",
      "\n"
     ]
    }
   ],
   "source": [
    "import pandas as pd\n",
    "from sklearn.model_selection import train_test_split\n",
    "from sklearn.feature_extraction.text import TfidfVectorizer\n",
    "from sklearn.naive_bayes import MultinomialNB\n",
    "from sklearn.metrics import accuracy_score, classification_report\n",
    " \n",
    "# 加载CSV 文件的路径\n",
    "file_path = 'data/bully.csv'\n",
    "data = pd.read_csv(file_path, encoding='gbk')\n",
    "\n",
    "# 分割数据为训练集和测试集\n",
    "X_train, X_test, y_train, y_test = train_test_split(data['对话'], data['是否遭遇霸凌'], test_size=0.2, random_state=42)\n",
    "\n",
    "# 使用TF-IDF向量化器将文本数据转换为数值特征\n",
    "vectorizer = TfidfVectorizer(max_features=5000)\n",
    "X_train_vec = vectorizer.fit_transform(X_train)\n",
    "X_test_vec = vectorizer.transform(X_test)\n",
    "\n",
    "# 使用多项式朴素贝叶斯模型进行训练\n",
    "model = MultinomialNB()\n",
    "model.fit(X_train_vec, y_train)\n",
    "\n",
    "# 在测试集上进行预测\n",
    "y_pred = model.predict(X_test_vec)\n",
    "\n",
    "# 创建一个包含原始测试集和预测结果的 DataFrame\n",
    "test_with_predictions = X_test.to_frame() \n",
    "test_with_predictions['是否遭遇霸凌'] = y_test\n",
    "test_with_predictions['预测结果'] = y_pred\n",
    "\n",
    "# 打印合并后的数据集\n",
    "print(test_with_predictions[['对话', '是否遭遇霸凌', '预测结果']])\n",
    "\n",
    "# 计算并输出准确率\n",
    "accuracy = accuracy_score(y_test, y_pred)\n",
    "print(f\"Accuracy: {accuracy * 100:.2f}%\")\n",
    "\n",
    "# 输出更详细的分类报告\n",
    "print(classification_report(y_test, y_pred))"
   ]
  },
  {
   "cell_type": "code",
   "execution_count": null,
   "metadata": {},
   "outputs": [],
   "source": []
  }
 ],
 "metadata": {
  "kernelspec": {
   "display_name": "Python 3",
   "language": "python",
   "name": "python3"
  },
  "language_info": {
   "codemirror_mode": {
    "name": "ipython",
    "version": 3
   },
   "file_extension": ".py",
   "mimetype": "text/x-python",
   "name": "python",
   "nbconvert_exporter": "python",
   "pygments_lexer": "ipython3",
   "version": "3.10.6"
  }
 },
 "nbformat": 4,
 "nbformat_minor": 2
}
